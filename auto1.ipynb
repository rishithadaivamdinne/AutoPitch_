{
 "cells": [
  {
   "cell_type": "code",
   "execution_count": 2,
   "id": "a4dcab1f-c8a1-4906-89a8-e92aa46bec26",
   "metadata": {},
   "outputs": [
    {
     "name": "stdout",
     "output_type": "stream",
     "text": [
      "The first person to set foot on the Moon was Neil Armstrong. He stepped out of the lunar module Eagle and onto the Moon's surface on July 20, 1969, during the Apollo 11 mission.\n",
      "\n",
      "Armstrong famously declared, \"That's one small step for man, one giant leap for mankind,\" as he became the first human to set foot on another celestial body.\n",
      "\n",
      "He was followed by fellow astronaut Edwin \"Buzz\" Aldrin, who also walked on the Moon during the mission.\n"
     ]
    }
   ],
   "source": [
    "from langchain_groq import ChatGroq\n",
    "\n",
    "llm = ChatGroq(  \n",
    "    temperature=0,\n",
    "    groq_api_key='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',\n",
    "    model=\"llama3-70b-8192\"\n",
    ")\n",
    "response = llm.invoke(\"The first person to land on moon was\")\n",
    "print(response.content)"
   ]
  },
  {
   "cell_type": "code",
   "execution_count": null,
   "id": "80e56f1d-7d40-48d3-9c27-931c008f819d",
   "metadata": {},
   "outputs": [],
   "source": []
  }
 ],
 "metadata": {
  "kernelspec": {
   "display_name": "Python 3 (ipykernel)",
   "language": "python",
   "name": "python3"
  },
  "language_info": {
   "codemirror_mode": {
    "name": "ipython",
    "version": 3
   },
   "file_extension": ".py",
   "mimetype": "text/x-python",
   "name": "python",
   "nbconvert_exporter": "python",
   "pygments_lexer": "ipython3",
   "version": "3.12.1"
  }
 },
 "nbformat": 4,
 "nbformat_minor": 5
}
