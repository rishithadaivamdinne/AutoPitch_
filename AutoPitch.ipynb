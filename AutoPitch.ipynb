{
 "cells": [
  {
   "cell_type": "code",
   "execution_count": 5,
   "id": "b52d5362-d6f1-48b6-9abb-4947268677c6",
   "metadata": {},
   "outputs": [],
   "source": [
    "from langchain_groq import ChatGroq"
   ]
  },
  {
   "cell_type": "code",
   "execution_count": 6,
   "id": "5a8a3c1e-3c09-4509-978d-075434e37541",
   "metadata": {},
   "outputs": [
    {
     "name": "stdout",
     "output_type": "stream",
     "text": [
      "The first person to set foot on the Moon was Neil Armstrong. He stepped out of the lunar module Eagle and onto the Moon's surface on July 20, 1969, during the Apollo 11 mission.\n",
      "\n",
      "Armstrong famously declared, \"That's one small step for man, one giant leap for mankind,\" as he became the first human to set foot on another celestial body.\n",
      "\n",
      "He was followed by fellow astronaut Edwin \"Buzz\" Aldrin, who also walked on the Moon during the mission.\n"
     ]
    }
   ],
   "source": [
    "llm = ChatGroq(  \n",
    "    temperature=0,\n",
    "    groq_api_key='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',\n",
    "    model=\"llama3-70b-8192\"\n",
    ")\n",
    "response = llm.invoke(\"The first person to land on moon was\")\n",
    "print(response.content)"
   ]
  },
  {
   "cell_type": "code",
   "execution_count": 7,
   "id": "a5069553-8788-49eb-9103-bea86cc5fcfc",
   "metadata": {},
   "outputs": [
    {
     "name": "stderr",
     "output_type": "stream",
     "text": [
      "\n",
      "[notice] A new release of pip is available: 23.3.2 -> 25.0.1\n",
      "[notice] To update, run: python.exe -m pip install --upgrade pip\n"
     ]
    }
   ],
   "source": [
    "!pip install -qU langchain_community beautifulsoup4"
   ]
  },
  {
   "cell_type": "code",
   "execution_count": 8,
   "id": "a12330a0-74ad-47fe-9581-8d7697e2d178",
   "metadata": {},
   "outputs": [
    {
     "name": "stderr",
     "output_type": "stream",
     "text": [
      "USER_AGENT environment variable not set, consider setting it to identify your requests.\n"
     ]
    },
    {
     "data": {
      "text/plain": [
       "'System Development Engineer II, REALM-HYD - Job ID: 2959878 | Amazon.jobs\\nSkip to main contentHomeTeamsLocationsJob categoriesMy careerMy applicationsMy profileAccount securitySettingsSign outResourcesDisability accommodationsBenefitsInclusive experiencesInterview tipsLeadership principlesWorking at AmazonFAQ×System Development Engineer II, REALM-HYDJob ID: 2959878 | ADCI HYD 13 SEZApply nowDESCRIPTIONThe REALM Team is looking for a System Dev Engineer who will act as first level support for all incoming production software application issues dealing with near 100+ different services in Amazon Transportation Technology. The Systems Dev Engineer will be specializing in application support of WW Amazon transportation systems. Your solutions will impact our customers directly! This job requires you to constantly hit the ground running and your ability to learn quickly and work on disparate and overlapping tasks will define your success. High Impact production issues often require coordination between multiple Development, Operations and IT Support groups, so you get to experience a breadth of impact with various groups.Primary responsibilities include troubleshooting, diagnosing and fixing production software issues, developing monitoring solutions, performing software maintenance and configuration, implementing the fix for internally developed code (Java, Python and Perl), performing SQL queries, updating, tracking and resolving technical challenges. Responsibilities also include working alongside development on Amazon Corporate and Divisional Software projects, updating/enhancing our current software, automation of support processes and documentation of our systems.The ideal candidate must be detail oriented, have superior verbal and written communication skills, strong organizational skills, able to juggle multiple tasks at once, able to work independently and can maintain professionalism under pressure. You must be able to identify problems before they happen and implement solutions that detect and prevent outages. You must be able to accurately prioritize projects, make sound judgments, work to improve the customer experience, and get the right things done.Key job responsibilities* As a System Development Engineer you will:* Play vital role in helping us leverage supporting and developing technologies on any platform to increase global collaboration, increase efficiency, and meet our controller ship requirements* Directly work with development teams to improve the applications built by conducting technical mitigations and deep dives on reported issues to find the cause and corrective actions* Work with our other technical teams to ensure the design is effective and complements of our in house custom developed applications across platform stacks (including SQL, Java/.NET/C#/Perl/Python) or SaaS* Work on proactive detection mechanism to report dip in software performance by building efficient metrics/monitors/alarms using our in house tools* Build tools and automations to optimize the system, simplify processes, etc.BASIC QUALIFICATIONS- Experience in automating, deploying, and supporting large-scale infrastructure- Experience programming with at least one modern language such as Python, Ruby, Golang, Java, C++, C#, Rust- Experience with Linux/Unix- Experience with CI/CD pipelines build processesPREFERRED QUALIFICATIONS- Experience with distributed systems at scaleOur inclusive culture empowers Amazonians to deliver the best results for our customers. If you have a disability and need a workplace accommodation or adjustment during the application and hiring process, including support for the interview or onboarding process, please visit https://amazon.jobs/content/en/how-we-hire/accommodations for more information. If the country/region you’re applying in isn’t listed, please contact your Recruiting Partner.Job detailsIND, TS, HyderabadMiddle Mile Product & TechnologyOperations, IT, & Support EngineeringShare this jobJOIN US ONFind CareersJob CategoriesTeamsLocationsUS and EU Military recruitingWarehouse and Hourly JobsWorking At AmazonCultureBenefitsAmazon NewsletterDiversity at AmazonOur leadership principlesHelpFAQInterview tipsReview application statusDisability accommodationsLegal disclosures and noticesAmazon is committed to a diverse and inclusive workplace. Amazon is an equal opportunity employer and does not discriminate on the basis of race, national origin, gender, gender identity, sexual orientation, protected veteran status, disability, age, or other legally protected status.Privacy and DataImpressum© 1996-2025, Amazon.com, Inc. or its affiliates'"
      ]
     },
     "execution_count": 8,
     "metadata": {},
     "output_type": "execute_result"
    }
   ],
   "source": [
    "from langchain_community.document_loaders import WebBaseLoader\n",
    "\n",
    "loader = WebBaseLoader(\"https://www.amazon.jobs/en/jobs/2959878/system-development-engineer-ii-realm-hyd\")\n",
    "page_data=loader.load().pop().page_content\n",
    "page_data"
   ]
  },
  {
   "cell_type": "code",
   "execution_count": 9,
   "id": "876cdcb7-f882-4982-a6ae-5dfd84814f18",
   "metadata": {},
   "outputs": [
    {
     "name": "stdout",
     "output_type": "stream",
     "text": [
      "Here is the extracted job posting in JSON format:\n",
      "\n",
      "```\n",
      "{\n",
      "  \"role\": \"System Development Engineer II, REALM-HYD\",\n",
      "  \"experience\": \"Experience in automating, deploying, and supporting large-scale infrastructure\",\n",
      "  \"skills\": [\"Python\", \"Ruby\", \"Golang\", \"Java\", \"C++\", \"C#\", \"Rust\", \"Linux/Unix\", \"CI/CD pipelines\"],\n",
      "  \"description\": \"The REALM Team is looking for a System Dev Engineer who will act as first level support for all incoming production software application issues dealing with near 100+ different services in Amazon Transportation Technology.\"\n",
      "}\n",
      "```\n"
     ]
    }
   ],
   "source": [
    "from langchain_core.prompts import PromptTemplate\n",
    "\n",
    "prompt_extract=PromptTemplate.from_template(\n",
    "    \"\"\"\n",
    "    ### SCRAPED TEXT FROM WEBSITE:\n",
    "    {page_data}\n",
    "    ### INSTRUCTION:\n",
    "    The scraped text is from the career's page of a website.\n",
    "    Your job is to extract the job postings and return them in JSON format containing the following keys: `role`, `experience`, `skills` and `description`.\n",
    "    Only return the valid JSON.\n",
    "    ### VALID JSON (NO PREAMBLE):\n",
    "    \"\"\"\n",
    ")\n",
    "\n",
    "chain_extract= prompt_extract | llm\n",
    "res=chain_extract.invoke(input={'page_data':page_data})\n",
    "print(res.content)"
   ]
  },
  {
   "cell_type": "code",
   "execution_count": 10,
   "id": "87b56cf1-cac3-4841-92cd-3d60f63267cc",
   "metadata": {},
   "outputs": [
    {
     "data": {
      "text/plain": [
       "{'role': 'System Development Engineer II, REALM-HYD',\n",
       " 'experience': 'Experience in automating, deploying, and supporting large-scale infrastructure',\n",
       " 'skills': ['Python',\n",
       "  'Ruby',\n",
       "  'Golang',\n",
       "  'Java',\n",
       "  'C++',\n",
       "  'C#',\n",
       "  'Rust',\n",
       "  'Linux/Unix',\n",
       "  'CI/CD pipelines'],\n",
       " 'description': 'The REALM Team is looking for a System Dev Engineer who will act as first level support for all incoming production software application issues dealing with near 100+ different services in Amazon Transportation Technology.'}"
      ]
     },
     "execution_count": 10,
     "metadata": {},
     "output_type": "execute_result"
    }
   ],
   "source": [
    "from langchain_core.output_parsers import JsonOutputParser\n",
    "\n",
    "json_parser= JsonOutputParser()\n",
    "json_res= json_parser.parse(res.content)\n",
    "json_res"
   ]
  },
  {
   "cell_type": "code",
   "execution_count": 11,
   "id": "076b3438-5a90-4243-a886-e5a5365c8731",
   "metadata": {},
   "outputs": [
    {
     "data": {
      "text/html": [
       "<div>\n",
       "<style scoped>\n",
       "    .dataframe tbody tr th:only-of-type {\n",
       "        vertical-align: middle;\n",
       "    }\n",
       "\n",
       "    .dataframe tbody tr th {\n",
       "        vertical-align: top;\n",
       "    }\n",
       "\n",
       "    .dataframe thead th {\n",
       "        text-align: right;\n",
       "    }\n",
       "</style>\n",
       "<table border=\"1\" class=\"dataframe\">\n",
       "  <thead>\n",
       "    <tr style=\"text-align: right;\">\n",
       "      <th></th>\n",
       "      <th>Techstack</th>\n",
       "      <th>Links</th>\n",
       "    </tr>\n",
       "  </thead>\n",
       "  <tbody>\n",
       "    <tr>\n",
       "      <th>0</th>\n",
       "      <td>React, Node.js, MongoDB</td>\n",
       "      <td>https://rishithadaivamdinne.github.io/autopitc...</td>\n",
       "    </tr>\n",
       "    <tr>\n",
       "      <th>1</th>\n",
       "      <td>Angular,.NET, SQL Server</td>\n",
       "      <td>https://rishithadaivamdinne.github.io/autopitc...</td>\n",
       "    </tr>\n",
       "    <tr>\n",
       "      <th>2</th>\n",
       "      <td>Vue.js, Ruby on Rails, PostgreSQL</td>\n",
       "      <td>https://rishithadaivamdinne.github.io/autopitc...</td>\n",
       "    </tr>\n",
       "    <tr>\n",
       "      <th>3</th>\n",
       "      <td>Python, Django, MySQL</td>\n",
       "      <td>https://rishithadaivamdinne.github.io/autopitc...</td>\n",
       "    </tr>\n",
       "    <tr>\n",
       "      <th>4</th>\n",
       "      <td>Java, Spring Boot, Oracle</td>\n",
       "      <td>https://rishithadaivamdinne.github.io/autopitc...</td>\n",
       "    </tr>\n",
       "    <tr>\n",
       "      <th>5</th>\n",
       "      <td>Flutter, Firebase, GraphQL</td>\n",
       "      <td>https://rishithadaivamdinne.github.io/autopitc...</td>\n",
       "    </tr>\n",
       "    <tr>\n",
       "      <th>6</th>\n",
       "      <td>WordPress, PHP, MySQL</td>\n",
       "      <td>https://rishithadaivamdinne.github.io/autopitc...</td>\n",
       "    </tr>\n",
       "    <tr>\n",
       "      <th>7</th>\n",
       "      <td>Magento, PHP, MySQL</td>\n",
       "      <td>https://rishithadaivamdinne.github.io/autopitc...</td>\n",
       "    </tr>\n",
       "    <tr>\n",
       "      <th>8</th>\n",
       "      <td>React Native, Node.js, MongoDB</td>\n",
       "      <td>https://rishithadaivamdinne.github.io/autopitc...</td>\n",
       "    </tr>\n",
       "    <tr>\n",
       "      <th>9</th>\n",
       "      <td>iOS, Swift, Core Data</td>\n",
       "      <td>https://rishithadaivamdinne.github.io/autopitc...</td>\n",
       "    </tr>\n",
       "    <tr>\n",
       "      <th>10</th>\n",
       "      <td>Android, Java, Room Persistence</td>\n",
       "      <td>https://rishithadaivamdinne.github.io/autopitc...</td>\n",
       "    </tr>\n",
       "    <tr>\n",
       "      <th>11</th>\n",
       "      <td>Kotlin, Android, Firebase</td>\n",
       "      <td>https://rishithadaivamdinne.github.io/autopitc...</td>\n",
       "    </tr>\n",
       "    <tr>\n",
       "      <th>12</th>\n",
       "      <td>Android TV, Kotlin, Android NDK</td>\n",
       "      <td>https://rishithadaivamdinne.github.io/autopitc...</td>\n",
       "    </tr>\n",
       "    <tr>\n",
       "      <th>13</th>\n",
       "      <td>iOS, Swift, ARKit</td>\n",
       "      <td>https://rishithadaivamdinne.github.io/autopitc...</td>\n",
       "    </tr>\n",
       "    <tr>\n",
       "      <th>14</th>\n",
       "      <td>Cross-platform, Xamarin, Azure</td>\n",
       "      <td>https://rishithadaivamdinne.github.io/autopitc...</td>\n",
       "    </tr>\n",
       "    <tr>\n",
       "      <th>15</th>\n",
       "      <td>Backend, Kotlin, Spring Boot</td>\n",
       "      <td>https://rishithadaivamdinne.github.io/autopitc...</td>\n",
       "    </tr>\n",
       "    <tr>\n",
       "      <th>16</th>\n",
       "      <td>Frontend, TypeScript, Angular</td>\n",
       "      <td>https://rishithadaivamdinne.github.io/autopitc...</td>\n",
       "    </tr>\n",
       "    <tr>\n",
       "      <th>17</th>\n",
       "      <td>Full-stack, JavaScript, Express.js</td>\n",
       "      <td>https://rishithadaivamdinne.github.io/autopitc...</td>\n",
       "    </tr>\n",
       "    <tr>\n",
       "      <th>18</th>\n",
       "      <td>Machine Learning, Python, TensorFlow</td>\n",
       "      <td>https://rishithadaivamdinne.github.io/autopitc...</td>\n",
       "    </tr>\n",
       "    <tr>\n",
       "      <th>19</th>\n",
       "      <td>DevOps, Jenkins, Docker</td>\n",
       "      <td>https://rishithadaivamdinne.github.io/autopitc...</td>\n",
       "    </tr>\n",
       "  </tbody>\n",
       "</table>\n",
       "</div>"
      ],
      "text/plain": [
       "                               Techstack  \\\n",
       "0                React, Node.js, MongoDB   \n",
       "1               Angular,.NET, SQL Server   \n",
       "2      Vue.js, Ruby on Rails, PostgreSQL   \n",
       "3                  Python, Django, MySQL   \n",
       "4              Java, Spring Boot, Oracle   \n",
       "5             Flutter, Firebase, GraphQL   \n",
       "6                  WordPress, PHP, MySQL   \n",
       "7                    Magento, PHP, MySQL   \n",
       "8         React Native, Node.js, MongoDB   \n",
       "9                  iOS, Swift, Core Data   \n",
       "10       Android, Java, Room Persistence   \n",
       "11             Kotlin, Android, Firebase   \n",
       "12       Android TV, Kotlin, Android NDK   \n",
       "13                     iOS, Swift, ARKit   \n",
       "14        Cross-platform, Xamarin, Azure   \n",
       "15          Backend, Kotlin, Spring Boot   \n",
       "16         Frontend, TypeScript, Angular   \n",
       "17    Full-stack, JavaScript, Express.js   \n",
       "18  Machine Learning, Python, TensorFlow   \n",
       "19               DevOps, Jenkins, Docker   \n",
       "\n",
       "                                                Links  \n",
       "0   https://rishithadaivamdinne.github.io/autopitc...  \n",
       "1   https://rishithadaivamdinne.github.io/autopitc...  \n",
       "2   https://rishithadaivamdinne.github.io/autopitc...  \n",
       "3   https://rishithadaivamdinne.github.io/autopitc...  \n",
       "4   https://rishithadaivamdinne.github.io/autopitc...  \n",
       "5   https://rishithadaivamdinne.github.io/autopitc...  \n",
       "6   https://rishithadaivamdinne.github.io/autopitc...  \n",
       "7   https://rishithadaivamdinne.github.io/autopitc...  \n",
       "8   https://rishithadaivamdinne.github.io/autopitc...  \n",
       "9   https://rishithadaivamdinne.github.io/autopitc...  \n",
       "10  https://rishithadaivamdinne.github.io/autopitc...  \n",
       "11  https://rishithadaivamdinne.github.io/autopitc...  \n",
       "12  https://rishithadaivamdinne.github.io/autopitc...  \n",
       "13  https://rishithadaivamdinne.github.io/autopitc...  \n",
       "14  https://rishithadaivamdinne.github.io/autopitc...  \n",
       "15  https://rishithadaivamdinne.github.io/autopitc...  \n",
       "16  https://rishithadaivamdinne.github.io/autopitc...  \n",
       "17  https://rishithadaivamdinne.github.io/autopitc...  \n",
       "18  https://rishithadaivamdinne.github.io/autopitc...  \n",
       "19  https://rishithadaivamdinne.github.io/autopitc...  "
      ]
     },
     "execution_count": 11,
     "metadata": {},
     "output_type": "execute_result"
    }
   ],
   "source": [
    "import pandas as pd\n",
    "\n",
    "df=pd.read_csv('my_portfolio.csv')\n",
    "df"
   ]
  },
  {
   "cell_type": "code",
   "execution_count": 19,
   "id": "2b91e63a-8c79-4d7e-847e-f94215c62f3e",
   "metadata": {},
   "outputs": [],
   "source": [
    "import chromadb\n",
    "import uuid\n",
    "\n",
    "client = chromadb.PersistentClient('vectorstore')\n",
    "collectionone = client.get_or_create_collection(name=\"portfoliotwo\")\n",
    "\n",
    "if not collectionone.count():\n",
    "    for _, row in df.iterrows():\n",
    "        collectionone.add(documents=row[\"Techstack\"], metadatas={\"links\": row[\"Links\"]}, ids=[str(uuid.uuid4())])"
   ]
  },
  {
   "cell_type": "code",
   "execution_count": 20,
   "id": "a093de5b-dc3f-4d9c-b63b-c31880f50877",
   "metadata": {},
   "outputs": [
    {
     "data": {
      "text/plain": [
       "[[{'links': 'https://rishithadaivamdinne.github.io/autopitch-tech-portfolios/ml-python-tensorflow.html  '},\n",
       "  {'links': 'https://rishithadaivamdinne.github.io/autopitch-tech-portfolios/python-django-mysql.html  '}],\n",
       " [{'links': 'https://rishithadaivamdinne.github.io/autopitch-tech-portfolios/react-node-mongodb.html  '},\n",
       "  {'links': 'https://rishithadaivamdinne.github.io/autopitch-tech-portfolios/react-native-node-mongo.html  '}]]"
      ]
     },
     "execution_count": 20,
     "metadata": {},
     "output_type": "execute_result"
    }
   ],
   "source": [
    "links=collectionone.query(query_texts=[\"Experience in Python\",\"Expertise in React\"], n_results=2).get('metadatas')\n",
    "links"
   ]
  },
  {
   "cell_type": "code",
   "execution_count": 21,
   "id": "770c6ec2-1566-42ae-abc6-ed2da283e69f",
   "metadata": {},
   "outputs": [],
   "source": [
    "job=json_res"
   ]
  },
  {
   "cell_type": "code",
   "execution_count": 22,
   "id": "319b9a05-e713-41c2-87e6-86b0baa3adce",
   "metadata": {},
   "outputs": [
    {
     "data": {
      "text/plain": [
       "[[{'links': 'https://rishithadaivamdinne.github.io/autopitch-tech-portfolios/ml-python-tensorflow.html  '},\n",
       "  {'links': 'https://rishithadaivamdinne.github.io/autopitch-tech-portfolios/python-django-mysql.html  '}],\n",
       " [{'links': 'https://rishithadaivamdinne.github.io/autopitch-tech-portfolios/vue-rails-postgres.html  '},\n",
       "  {'links': 'https://rishithadaivamdinne.github.io/autopitch-tech-portfolios/python-django-mysql.html  '}],\n",
       " [{'links': 'https://rishithadaivamdinne.github.io/autopitch-tech-portfolios/ios-swift-arkit.html  '},\n",
       "  {'links': 'https://rishithadaivamdinne.github.io/autopitch-tech-portfolios/ml-python-tensorflow.html  '}],\n",
       " [{'links': 'https://rishithadaivamdinne.github.io/autopitch-tech-portfolios/java-springboot-oracle.html  '},\n",
       "  {'links': 'https://rishithadaivamdinne.github.io/autopitch-tech-portfolios/android-java-room.html  '}],\n",
       " [{'links': 'https://rishithadaivamdinne.github.io/autopitch-tech-portfolios/ml-python-tensorflow.html  '},\n",
       "  {'links': 'https://rishithadaivamdinne.github.io/autopitch-tech-portfolios/magento-php-mysql.html  '}],\n",
       " [{'links': 'https://rishithadaivamdinne.github.io/autopitch-tech-portfolios/angular-dotnet-sql.html  '},\n",
       "  {'links': 'https://rishithadaivamdinne.github.io/autopitch-tech-portfolios/wordpress-php-mysql.html  '}],\n",
       " [{'links': 'https://rishithadaivamdinne.github.io/autopitch-tech-portfolios/java-springboot-oracle.html  '},\n",
       "  {'links': 'https://rishithadaivamdinne.github.io/autopitch-tech-portfolios/kotlin-springboot-backend.html  '}],\n",
       " [{'links': 'https://rishithadaivamdinne.github.io/autopitch-tech-portfolios/magento-php-mysql.html  '},\n",
       "  {'links': 'https://rishithadaivamdinne.github.io/autopitch-tech-portfolios/java-springboot-oracle.html  '}],\n",
       " [{'links': 'https://rishithadaivamdinne.github.io/autopitch-tech-portfolios/devops-jenkins-docker.html  '},\n",
       "  {'links': 'https://rishithadaivamdinne.github.io/autopitch-tech-portfolios/magento-php-mysql.html  '}]]"
      ]
     },
     "execution_count": 22,
     "metadata": {},
     "output_type": "execute_result"
    }
   ],
   "source": [
    "links=collectionone.query(query_texts=job['skills'], n_results=2).get('metadatas')\n",
    "links"
   ]
  },
  {
   "cell_type": "code",
   "execution_count": 23,
   "id": "7dfe27ca-86b2-43b5-a897-4eb49942350e",
   "metadata": {},
   "outputs": [
    {
     "name": "stdout",
     "output_type": "stream",
     "text": [
      "Subject: Application for System Development Engineer II, REALM-HYD Role\n",
      "\n",
      "Dear Hiring Manager,\n",
      "\n",
      "I came across the System Development Engineer II, REALM-HYD role at Amazon Transportation Technology, and I'm excited to apply for this position. With my strong foundation in computer science and IoT engineering, I'm confident that I can contribute to the REALM Team's mission to support large-scale infrastructure.\n",
      "\n",
      "As a pre-final year student with a CGPA of 9.22, I've developed a solid understanding of programming languages such as Python, Java, and C++. My experience in software development, AI/ML, and embedded systems has equipped me with the skills to automate, deploy, and support complex systems.\n",
      "\n",
      "I'm particularly drawn to this role because of the opportunity to work with a wide range of services (near 100+) in Amazon Transportation Technology. My strong problem-solving skills and passion for technology make me an ideal fit for this position.\n",
      "\n",
      "To showcase my capabilities, I'd like to share some relevant projects from my portfolio:\n",
      "\n",
      "* **ML with Python and TensorFlow**: I developed a machine learning model using Python and TensorFlow to classify images. This project demonstrates my ability to work with complex algorithms and large datasets. (https://rishithadaivamdinne.github.io/autopitch-tech-portfolios/ml-python-tensorflow.html)\n",
      "* **DevOps with Jenkins and Docker**: In this project, I implemented a CI/CD pipeline using Jenkins and Docker to automate the deployment of a web application. This showcases my understanding of Linux/Unix and CI/CD pipelines. (https://rishithadaivamdinne.github.io/autopitch-tech-portfolios/devops-jenkins-docker.html)\n",
      "\n",
      "I'm excited about the opportunity to bring my skills and passion to the REALM Team and contribute to the success of Amazon Transportation Technology. Thank you for considering my application. I look forward to discussing my qualifications further.\n",
      "\n",
      "Best regards,\n",
      "\n",
      "Rishitha Daivamdinne\n"
     ]
    }
   ],
   "source": [
    "prompt_email = PromptTemplate.from_template(\n",
    "        \"\"\"\n",
    "        ### JOB DESCRIPTION:\n",
    "        {job_description}\n",
    "        \n",
    "        ### INSTRUCTION:\n",
    "        You are Rishitha Daivamdinne, a pre-final year Computer Science and IoT engineering student with a CGPA of 9.22. \n",
    "    You are passionate about solving real-world problems with technology and have experience in areas such as \n",
    "    software development, AI/ML, and embedded systems. You are actively seeking opportunities to contribute \n",
    "    meaningfully to innovative teams and gain hands-on experience in the industry.\n",
    "\n",
    "    \n",
    "        Your job is to write a cold email to the client regarding the job mentioned above describing the capability of Rishitha \n",
    "        in fulfilling their needs.\n",
    "        Also add the most relevant ones from the following links to showcase Rishitha's portfolio: {link_list}\n",
    "        Remember you are Rishitha Daivamdinne. \n",
    "        Do not provide a preamble.\n",
    "        ### EMAIL (NO PREAMBLE):\n",
    "        \n",
    "        \"\"\"\n",
    "        )\n",
    "\n",
    "chain_email = prompt_email | llm\n",
    "res = chain_email.invoke({\"job_description\": str(job), \"link_list\": links})\n",
    "print(res.content)"
   ]
  },
  {
   "cell_type": "code",
   "execution_count": null,
   "id": "28a1ba8e-f927-4c05-b336-cb6845f131c9",
   "metadata": {},
   "outputs": [],
   "source": []
  }
 ],
 "metadata": {
  "kernelspec": {
   "display_name": "Python 3 (ipykernel)",
   "language": "python",
   "name": "python3"
  },
  "language_info": {
   "codemirror_mode": {
    "name": "ipython",
    "version": 3
   },
   "file_extension": ".py",
   "mimetype": "text/x-python",
   "name": "python",
   "nbconvert_exporter": "python",
   "pygments_lexer": "ipython3",
   "version": "3.12.1"
  }
 },
 "nbformat": 4,
 "nbformat_minor": 5
}
